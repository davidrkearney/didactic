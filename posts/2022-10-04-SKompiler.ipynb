{
 "cells": [
  {
   "cell_type": "code",
   "execution_count": null,
   "id": "a8002ccd-929b-4234-8a68-529abc64416e",
   "metadata": {},
   "outputs": [],
   "source": [
    "from sklearn.datasets import load_iris\n",
    "from sklearn.ensemble import RandomForestClassifier\n"
   ]
  },
  {
   "cell_type": "code",
   "execution_count": null,
   "id": "63bfc863-effd-48ba-b99e-0a958695e25c",
   "metadata": {},
   "outputs": [],
   "source": [
    "X,y = load_iris(return_X_y=True)\n"
   ]
  },
  {
   "cell_type": "code",
   "execution_count": null,
   "id": "cf98109d-1b18-4b0d-8c95-78db7e8c9934",
   "metadata": {},
   "outputs": [],
   "source": [
    "# data = load_iris(as_frame=True)\n",
    "# data.target"
   ]
  },
  {
   "cell_type": "code",
   "execution_count": null,
   "id": "1c88e558-aef2-4ddf-9d69-d39039e0da04",
   "metadata": {},
   "outputs": [],
   "source": [
    "# data.frame"
   ]
  },
  {
   "cell_type": "code",
   "execution_count": null,
   "id": "1a45479e-6123-4fde-afdd-a512e6c3bcbd",
   "metadata": {},
   "outputs": [],
   "source": []
  },
  {
   "cell_type": "code",
   "execution_count": null,
   "id": "a85154ac-bf31-4b08-9874-54ae84a7f68e",
   "metadata": {},
   "outputs": [],
   "source": [
    "m = RandomForestClassifier(n_estimators=3, max_depth=3).fit(X, y)\n"
   ]
  },
  {
   "cell_type": "code",
   "execution_count": null,
   "id": "5e2e744d-319a-4fe5-8e6b-0532d77b09a7",
   "metadata": {},
   "outputs": [],
   "source": []
  },
  {
   "cell_type": "code",
   "execution_count": null,
   "id": "4a53a515-8f6e-4a2b-b015-7a1d7a63c17a",
   "metadata": {},
   "outputs": [],
   "source": [
    "from skompiler import skompile\n",
    "expr = skompile(m.predict)\n",
    "sql = expr.to('sqlalchemy/sqlite')\n"
   ]
  },
  {
   "cell_type": "code",
   "execution_count": null,
   "id": "ea56c9b9-c3a9-47e0-b28d-741c6194c84c",
   "metadata": {},
   "outputs": [
    {
     "data": {
      "text/plain": [
       "'WITH _tmp1 AS \\n(SELECT data.id AS __id__, CASE WHEN (x3 <= 2.449999988079071) THEN 0.3333333333333333 ELSE 0.0 END + CASE WHEN (x3 <= 2.599999964237213) THEN 0.3333333333333333 ELSE 0.0 END + CASE WHEN (x1 <= 5.450000047683716) THEN CASE WHEN (x4 <= 0.800000011920929) THEN 0.3333333333333333 ELSE 0.0 END ELSE 0.0 END AS f1, CASE WHEN (x3 <= 2.449999988079071) THEN 0.0 ELSE CASE WHEN (x1 <= 6.049999952316284) THEN CASE WHEN (x2 <= 2.450000047683716) THEN 0.3333333333333333 ELSE 0.2298850574712644 END ELSE CASE WHEN (x3 <= 5.049999952316284) THEN 0.25757575757575757 ELSE 0.0 END END END + CASE WHEN (x3 <= 2.599999964237213) THEN 0.0 ELSE CASE WHEN (x4 <= 1.6500000357627869) THEN CASE WHEN (x1 <= 7.099999904632568) THEN 0.3277777777777778 ELSE 0.0 END ELSE CASE WHEN (x3 <= 4.8500001430511475) THEN 0.08333333333333333 ELSE 0.0 END END END + CASE WHEN (x1 <= 5.450000047683716) THEN CASE WHEN (x4 <= 0.800000011920929) THEN 0.0 ELSE 0.3333333333333333 END ELSE CASE WHEN (x4 <= 1.75) THEN CASE WHEN (x3 <= 4.950000047683716) THEN 0.3333333333333333 ELSE 0.19047619047619047 END ELSE 0.0 END END AS f2, CASE WHEN (x3 <= 2.449999988079071) THEN 0.0 ELSE CASE WHEN (x1 <= 6.049999952316284) THEN CASE WHEN (x2 <= 2.450000047683716) THEN 0.0 ELSE 0.10344827586206896 END ELSE CASE WHEN (x3 <= 5.049999952316284) THEN 0.07575757575757576 ELSE 0.3333333333333333 END END END + CASE WHEN (x3 <= 2.599999964237213) THEN 0.0 ELSE CASE WHEN (x4 <= 1.6500000357627869) THEN CASE WHEN (x1 <= 7.099999904632568) THEN 0.005555555555555556 ELSE 0.3333333333333333 END ELSE CASE WHEN (x3 <= 4.8500001430511475) THEN 0.25 ELSE 0.3333333333333333 END END END + CASE WHEN (x1 <= 5.450000047683716) THEN 0.0 ELSE CASE WHEN (x4 <= 1.75) THEN CASE WHEN (x3 <= 4.950000047683716) THEN 0.0 ELSE 0.14285714285714285 END ELSE 0.3333333333333333 END END AS f3 \\nFROM data), \\n_tmp2 AS \\n(SELECT _tmp1.__id__ AS __id__, CASE WHEN (CASE WHEN (_tmp1.f1 > _tmp1.f2) THEN _tmp1.f1 ELSE _tmp1.f2 END > _tmp1.f3) THEN CASE WHEN (_tmp1.f1 > _tmp1.f2) THEN _tmp1.f1 ELSE _tmp1.f2 END ELSE _tmp1.f3 END AS _max \\nFROM _tmp1)\\n SELECT CASE WHEN (_tmp1.f1 = _tmp2._max) THEN 0 WHEN (_tmp1.f2 = _tmp2._max) THEN 1 ELSE 2 END AS y \\nFROM _tmp1 JOIN _tmp2 ON _tmp1.__id__ = _tmp2.__id__'"
      ]
     },
     "execution_count": null,
     "metadata": {},
     "output_type": "execute_result"
    }
   ],
   "source": [
    "sql"
   ]
  },
  {
   "cell_type": "code",
   "execution_count": null,
   "id": "02afbc59-e7f9-40fd-acd4-0b1b1bd8d259",
   "metadata": {},
   "outputs": [
    {
     "data": {
      "text/plain": [
       "150"
      ]
     },
     "execution_count": null,
     "metadata": {},
     "output_type": "execute_result"
    }
   ],
   "source": [
    "import sqlalchemy as sa\n",
    "import pandas as pd\n",
    "conn = sa.create_engine('sqlite://').connect()\n",
    "df = pd.DataFrame(X, columns=['x1', 'x2', 'x3', 'x4']).reset_index()\n",
    "df.to_sql('data', conn)\n"
   ]
  },
  {
   "cell_type": "code",
   "execution_count": null,
   "id": "bfb77f76-e0b9-4f61-ba85-b6d048325362",
   "metadata": {},
   "outputs": [],
   "source": [
    "sql = expr.to('sqlalchemy/sqlite', key_column='index', from_obj='data')\n"
   ]
  },
  {
   "cell_type": "code",
   "execution_count": null,
   "id": "9a3e26bc-4c86-46b5-a326-eaffc547d9e7",
   "metadata": {},
   "outputs": [],
   "source": [
    "results = pd.read_sql(sql, conn)\n"
   ]
  },
  {
   "cell_type": "code",
   "execution_count": null,
   "id": "47ca9c95-f022-4613-8c8c-3c1f47d5bd10",
   "metadata": {},
   "outputs": [
    {
     "data": {
      "text/html": [
       "<div>\n",
       "<style scoped>\n",
       "    .dataframe tbody tr th:only-of-type {\n",
       "        vertical-align: middle;\n",
       "    }\n",
       "\n",
       "    .dataframe tbody tr th {\n",
       "        vertical-align: top;\n",
       "    }\n",
       "\n",
       "    .dataframe thead th {\n",
       "        text-align: right;\n",
       "    }\n",
       "</style>\n",
       "<table border=\"1\" class=\"dataframe\">\n",
       "  <thead>\n",
       "    <tr style=\"text-align: right;\">\n",
       "      <th></th>\n",
       "      <th>y</th>\n",
       "    </tr>\n",
       "  </thead>\n",
       "  <tbody>\n",
       "    <tr>\n",
       "      <th>0</th>\n",
       "      <td>0</td>\n",
       "    </tr>\n",
       "    <tr>\n",
       "      <th>1</th>\n",
       "      <td>0</td>\n",
       "    </tr>\n",
       "    <tr>\n",
       "      <th>2</th>\n",
       "      <td>0</td>\n",
       "    </tr>\n",
       "    <tr>\n",
       "      <th>3</th>\n",
       "      <td>0</td>\n",
       "    </tr>\n",
       "    <tr>\n",
       "      <th>4</th>\n",
       "      <td>0</td>\n",
       "    </tr>\n",
       "    <tr>\n",
       "      <th>...</th>\n",
       "      <td>...</td>\n",
       "    </tr>\n",
       "    <tr>\n",
       "      <th>145</th>\n",
       "      <td>2</td>\n",
       "    </tr>\n",
       "    <tr>\n",
       "      <th>146</th>\n",
       "      <td>2</td>\n",
       "    </tr>\n",
       "    <tr>\n",
       "      <th>147</th>\n",
       "      <td>2</td>\n",
       "    </tr>\n",
       "    <tr>\n",
       "      <th>148</th>\n",
       "      <td>2</td>\n",
       "    </tr>\n",
       "    <tr>\n",
       "      <th>149</th>\n",
       "      <td>2</td>\n",
       "    </tr>\n",
       "  </tbody>\n",
       "</table>\n",
       "<p>150 rows × 1 columns</p>\n",
       "</div>"
      ],
      "text/plain": [
       "     y\n",
       "0    0\n",
       "1    0\n",
       "2    0\n",
       "3    0\n",
       "4    0\n",
       "..  ..\n",
       "145  2\n",
       "146  2\n",
       "147  2\n",
       "148  2\n",
       "149  2\n",
       "\n",
       "[150 rows x 1 columns]"
      ]
     },
     "execution_count": null,
     "metadata": {},
     "output_type": "execute_result"
    }
   ],
   "source": [
    "results"
   ]
  },
  {
   "cell_type": "code",
   "execution_count": null,
   "id": "f33e531a-dcd2-4303-a48d-bd1ddf1c3cb8",
   "metadata": {},
   "outputs": [],
   "source": [
    "assert (results.values.ravel() == m.predict(X).ravel()).all()\n"
   ]
  },
  {
   "cell_type": "code",
   "execution_count": null,
   "id": "76fd6656-576a-4316-8c9e-e642b64efec1",
   "metadata": {},
   "outputs": [],
   "source": [
    "expr = skompile(m.predict, ['a', 'b', 'c', 'd'])\n"
   ]
  },
  {
   "cell_type": "code",
   "execution_count": null,
   "id": "c237052e-ef06-472c-b863-763856f01416",
   "metadata": {},
   "outputs": [],
   "source": [
    "sql = expr.to('sqlalchemy/sqlite', multistage=False)\n"
   ]
  },
  {
   "cell_type": "code",
   "execution_count": null,
   "id": "325d375a-649d-47ac-a4cf-1e85b706f3c3",
   "metadata": {},
   "outputs": [
    {
     "data": {
      "text/plain": [
       "2218"
      ]
     },
     "execution_count": null,
     "metadata": {},
     "output_type": "execute_result"
    }
   ],
   "source": [
    "len(expr.to('sqlalchemy/sqlite'))\n"
   ]
  },
  {
   "cell_type": "code",
   "execution_count": null,
   "id": "20d599cd-e199-4356-8400-bc5d2e823afc",
   "metadata": {},
   "outputs": [
    {
     "ename": "SyntaxError",
     "evalue": "cannot assign to function call (946139640.py, line 1)",
     "output_type": "error",
     "traceback": [
      "\u001b[0;36m  Cell \u001b[0;32mIn [46], line 1\u001b[0;36m\u001b[0m\n\u001b[0;31m    predict(x) = argmax(predict_proba(x))\u001b[0m\n\u001b[0m    ^\u001b[0m\n\u001b[0;31mSyntaxError\u001b[0m\u001b[0;31m:\u001b[0m cannot assign to function call\n"
     ]
    }
   ],
   "source": [
    "predict(x) = argmax(predict_proba(x))"
   ]
  },
  {
   "cell_type": "code",
   "execution_count": null,
   "id": "5ce9005b-53bf-4bad-ba4a-88eacd3081ed",
   "metadata": {},
   "outputs": [],
   "source": []
  },
  {
   "cell_type": "code",
   "execution_count": null,
   "id": "89e2f6ce-421a-4a78-a137-ecc27e3c100d",
   "metadata": {},
   "outputs": [],
   "source": []
  },
  {
   "cell_type": "code",
   "execution_count": null,
   "id": "e63d2d0d-4fc4-490f-b4b0-84a9339256a6",
   "metadata": {},
   "outputs": [],
   "source": []
  },
  {
   "cell_type": "code",
   "execution_count": null,
   "id": "7309240b-2211-41a3-bcf6-5574a1d56283",
   "metadata": {},
   "outputs": [],
   "source": []
  },
  {
   "cell_type": "code",
   "execution_count": null,
   "id": "4e25b145-7514-426c-8343-809b41e2b28d",
   "metadata": {},
   "outputs": [],
   "source": []
  },
  {
   "cell_type": "code",
   "execution_count": null,
   "id": "da01b7b0-54f5-4876-8f55-b429d4c72da4",
   "metadata": {},
   "outputs": [],
   "source": []
  },
  {
   "cell_type": "code",
   "execution_count": null,
   "id": "25b3a9de-82cd-4444-86f7-f70aa062f6d7",
   "metadata": {},
   "outputs": [],
   "source": []
  },
  {
   "cell_type": "code",
   "execution_count": null,
   "id": "12779cff-914d-4b6c-880c-f07aef4d960c",
   "metadata": {},
   "outputs": [],
   "source": []
  },
  {
   "cell_type": "code",
   "execution_count": null,
   "id": "0c63cb0f-3c40-422f-939b-8ea5e4b26837",
   "metadata": {},
   "outputs": [],
   "source": []
  },
  {
   "cell_type": "code",
   "execution_count": null,
   "id": "545cacf8-d974-433f-be22-52ef63b6dcfd",
   "metadata": {},
   "outputs": [],
   "source": []
  },
  {
   "cell_type": "code",
   "execution_count": null,
   "id": "909f999a-b894-4d15-b7d0-1a2116d0d51c",
   "metadata": {},
   "outputs": [],
   "source": []
  }
 ],
 "metadata": {
  "kernelspec": {
   "display_name": "Python 3 (ipykernel)",
   "language": "python",
   "name": "python3"
  }
 },
 "nbformat": 4,
 "nbformat_minor": 5
}
