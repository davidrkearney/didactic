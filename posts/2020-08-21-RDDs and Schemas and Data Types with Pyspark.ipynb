{
 "cells": [
  {
   "cell_type": "raw",
   "metadata": {},
   "source": [
    "---\n",
    "aliases:\n",
    "- /2020/08/21/RDDs and Schemas and Data Types with Pyspark\n",
    "date: '2020-08-21'\n",
    "output-file: 2020-08-21-rdds and schemas and data types with pyspark.html\n",
    "title: RDDs and Schemas and Data Types with Pyspark\n",
    "\n",
    "---\n",
    "\n"
   ]
  },
  {
   "cell_type": "code",
   "execution_count": 2,
   "metadata": {},
   "outputs": [
    {
     "data": {
      "text/html": [
       "<style scoped>\n  .table-result-container {\n    max-height: 300px;\n    overflow: auto;\n  }\n  table, th, td {\n    border: 1px solid black;\n    border-collapse: collapse;\n  }\n  th, td {\n    padding: 5px;\n  }\n  th {\n    text-align: left;\n  }\n</style><div class='table-result-container'><table class='table-result'><thead style='background-color: white'><tr><th>_c0</th><th>province</th><th>specific</th><th>general</th><th>year</th><th>gdp</th><th>fdi</th><th>rnr</th><th>rr</th><th>i</th><th>fr</th><th>reg</th><th>it</th></tr></thead><tbody><tr><td>0</td><td>Anhui</td><td>147002.0</td><td>null</td><td>1996</td><td>2093.3</td><td>50661</td><td>0.0</td><td>0.0</td><td>0.0</td><td>1128873</td><td>East China</td><td>631930</td></tr><tr><td>1</td><td>Anhui</td><td>151981.0</td><td>null</td><td>1997</td><td>2347.32</td><td>43443</td><td>0.0</td><td>0.0</td><td>0.0</td><td>1356287</td><td>East China</td><td>657860</td></tr><tr><td>2</td><td>Anhui</td><td>174930.0</td><td>null</td><td>1998</td><td>2542.96</td><td>27673</td><td>0.0</td><td>0.0</td><td>0.0</td><td>1518236</td><td>East China</td><td>889463</td></tr><tr><td>3</td><td>Anhui</td><td>285324.0</td><td>null</td><td>1999</td><td>2712.34</td><td>26131</td><td>null</td><td>null</td><td>null</td><td>1646891</td><td>East China</td><td>1227364</td></tr><tr><td>4</td><td>Anhui</td><td>195580.0</td><td>32100.0</td><td>2000</td><td>2902.09</td><td>31847</td><td>0.0</td><td>0.0</td><td>0.0</td><td>1601508</td><td>East China</td><td>1499110</td></tr></tbody></table></div>"
      ]
     },
     "metadata": {},
     "output_type": "display_data"
    }
   ],
   "source": [
    "from pyspark.sql import SparkSession\n",
    "\n",
    "# Load data from a CSV\n",
    "file_location = \"/FileStore/tables/df_panel_fix.csv\"\n",
    "df = spark.read.format(\"CSV\").option(\"inferSchema\", True).option(\"header\", True).load(file_location)\n",
    "display(df.take(5))"
   ]
  },
  {
   "cell_type": "code",
   "execution_count": 3,
   "metadata": {},
   "outputs": [
    {
     "data": {
      "text/html": [
       "<style scoped>\n  .ansiout {\n    display: block;\n    unicode-bidi: embed;\n    white-space: pre-wrap;\n    word-wrap: break-word;\n    word-break: break-all;\n    font-family: \"Source Code Pro\", \"Menlo\", monospace;;\n    font-size: 13px;\n    color: #555;\n    margin-left: 4px;\n    line-height: 19px;\n  }\n</style>\n<div class=\"ansiout\">+---+--------+---------+--------+----+-------+------+----+-----------+-----------+-------+-----------+-------+\n_c0|province| specific| general|year|    gdp|   fdi| rnr|         rr|          i|     fr|        reg|     it|\n+---+--------+---------+--------+----+-------+------+----+-----------+-----------+-------+-----------+-------+\n  0|   Anhui| 147002.0|    null|1996| 2093.3| 50661| 0.0|        0.0|        0.0|1128873| East China| 631930|\n  1|   Anhui| 151981.0|    null|1997|2347.32| 43443| 0.0|        0.0|        0.0|1356287| East China| 657860|\n  2|   Anhui| 174930.0|    null|1998|2542.96| 27673| 0.0|        0.0|        0.0|1518236| East China| 889463|\n  3|   Anhui| 285324.0|    null|1999|2712.34| 26131|null|       null|       null|1646891| East China|1227364|\n  4|   Anhui| 195580.0| 32100.0|2000|2902.09| 31847| 0.0|        0.0|        0.0|1601508| East China|1499110|\n  5|   Anhui| 250898.0|    null|2001|3246.71| 33672| 0.0|        0.0|        0.0|1672445| East China|2165189|\n  6|   Anhui| 434149.0| 66529.0|2002|3519.72| 38375| 0.0|        0.0|        0.0|1677840| East China|2404936|\n  7|   Anhui| 619201.0| 52108.0|2003|3923.11| 36720| 0.0|        0.0|        0.0|1896479| East China|2815820|\n  8|   Anhui| 898441.0|349699.0|2004| 4759.3| 54669| 0.0|        0.0|        0.0|   null| East China|3422176|\n  9|   Anhui| 898441.0|    null|2005|5350.17| 69000| 0.0|        0.0|0.324324324|   null| East China|3874846|\n 10|   Anhui|1457872.0|279052.0|2006| 6112.5|139354| 0.0|        0.0|0.324324324|3434548| East China|5167300|\n 11|   Anhui|2213991.0|178705.0|2007|7360.92|299892| 0.0|        0.0|0.324324324|4468640| East China|7040099|\n 12| Beijing| 165957.0|    null|1996| 1789.2|155290|null|       null|       null| 634562|North China| 508135|\n 13| Beijing| 165957.0|    null|1997|2077.09|159286| 0.0|        0.0|        0.6| 634562|North China| 569283|\n 14| Beijing| 245198.0|    null|1998|2377.18|216800| 0.0|        0.0|       0.53| 938788|North China| 695528|\n 15| Beijing| 388083.0|    null|1999|2678.82|197525| 0.0|        0.0|       0.53|   null|North China| 944047|\n 16| Beijing| 281769.0|188633.0|2000|3161.66|168368| 0.0|        0.0|       0.53|1667114|North China| 757990|\n 17| Beijing| 441923.0|    null|2001|3707.96|176818| 0.0|        0.0|       0.53|2093925|North China|1194728|\n 18| Beijing| 558569.0|280277.0|2002| 4315.0|172464| 0.0|        0.0|       0.53|2511249|North China|1078754|\n 19| Beijing| 642581.0|269596.0|2003|5007.21|219126| 0.0|0.794871795|        0.0|2823366|North China|1426600|\n+---+--------+---------+--------+----+-------+------+----+-----------+-----------+-------+-----------+-------+\nonly showing top 20 rows\n\n</div>"
      ]
     },
     "metadata": {},
     "output_type": "display_data"
    }
   ],
   "source": [
    "df.show()"
   ]
  },
  {
   "cell_type": "code",
   "execution_count": 4,
   "metadata": {},
   "outputs": [
    {
     "data": {
      "text/html": [
       "<style scoped>\n  .ansiout {\n    display: block;\n    unicode-bidi: embed;\n    white-space: pre-wrap;\n    word-wrap: break-word;\n    word-break: break-all;\n    font-family: \"Source Code Pro\", \"Menlo\", monospace;;\n    font-size: 13px;\n    color: #555;\n    margin-left: 4px;\n    line-height: 19px;\n  }\n</style>\n<div class=\"ansiout\">root\n-- _c0: integer (nullable = true)\n-- province: string (nullable = true)\n-- specific: double (nullable = true)\n-- general: double (nullable = true)\n-- year: integer (nullable = true)\n-- gdp: double (nullable = true)\n-- fdi: integer (nullable = true)\n-- rnr: double (nullable = true)\n-- rr: double (nullable = true)\n-- i: double (nullable = true)\n-- fr: string (nullable = true)\n-- reg: string (nullable = true)\n-- it: integer (nullable = true)\n\n</div>"
      ]
     },
     "metadata": {},
     "output_type": "display_data"
    }
   ],
   "source": [
    "df.printSchema()"
   ]
  },
  {
   "cell_type": "code",
   "execution_count": 5,
   "metadata": {},
   "outputs": [
    {
     "data": {
      "text/html": [
       "<style scoped>\n  .ansiout {\n    display: block;\n    unicode-bidi: embed;\n    white-space: pre-wrap;\n    word-wrap: break-word;\n    word-break: break-all;\n    font-family: \"Source Code Pro\", \"Menlo\", monospace;;\n    font-size: 13px;\n    color: #555;\n    margin-left: 4px;\n    line-height: 19px;\n  }\n</style>\n<div class=\"ansiout\">Out[64]: [&#39;_c0&#39;,\n &#39;province&#39;,\n &#39;specific&#39;,\n &#39;general&#39;,\n &#39;year&#39;,\n &#39;gdp&#39;,\n &#39;fdi&#39;,\n &#39;rnr&#39;,\n &#39;rr&#39;,\n &#39;i&#39;,\n &#39;fr&#39;,\n &#39;reg&#39;,\n &#39;it&#39;]</div>"
      ]
     },
     "metadata": {},
     "output_type": "display_data"
    }
   ],
   "source": [
    "df.columns"
   ]
  },
  {
   "cell_type": "code",
   "execution_count": 6,
   "metadata": {},
   "outputs": [
    {
     "data": {
      "text/html": [
       "<style scoped>\n  .ansiout {\n    display: block;\n    unicode-bidi: embed;\n    white-space: pre-wrap;\n    word-wrap: break-word;\n    word-break: break-all;\n    font-family: \"Source Code Pro\", \"Menlo\", monospace;;\n    font-size: 13px;\n    color: #555;\n    margin-left: 4px;\n    line-height: 19px;\n  }\n</style>\n<div class=\"ansiout\">Out[65]: DataFrame[summary: string, _c0: string, province: string, specific: string, general: string, year: string, gdp: string, fdi: string, rnr: string, rr: string, i: string, fr: string, reg: string, it: string]</div>"
      ]
     },
     "metadata": {},
     "output_type": "display_data"
    }
   ],
   "source": [
    "df.describe()"
   ]
  },
  {
   "cell_type": "markdown",
   "metadata": {},
   "source": [
    "## Setting Data Schema and Data Types"
   ]
  },
  {
   "cell_type": "code",
   "execution_count": 7,
   "metadata": {},
   "outputs": [
    {
     "data": {
      "text/html": [
       "<style scoped>\n  .ansiout {\n    display: block;\n    unicode-bidi: embed;\n    white-space: pre-wrap;\n    word-wrap: break-word;\n    word-break: break-all;\n    font-family: \"Source Code Pro\", \"Menlo\", monospace;;\n    font-size: 13px;\n    color: #555;\n    margin-left: 4px;\n    line-height: 19px;\n  }\n</style>\n<div class=\"ansiout\"></div>"
      ]
     },
     "metadata": {},
     "output_type": "display_data"
    }
   ],
   "source": [
    "from pyspark.sql.types import StructField,StringType,IntegerType,StructType"
   ]
  },
  {
   "cell_type": "code",
   "execution_count": 8,
   "metadata": {},
   "outputs": [
    {
     "data": {
      "text/html": [
       "<style scoped>\n  .ansiout {\n    display: block;\n    unicode-bidi: embed;\n    white-space: pre-wrap;\n    word-wrap: break-word;\n    word-break: break-all;\n    font-family: \"Source Code Pro\", \"Menlo\", monospace;;\n    font-size: 13px;\n    color: #555;\n    margin-left: 4px;\n    line-height: 19px;\n  }\n</style>\n<div class=\"ansiout\"></div>"
      ]
     },
     "metadata": {},
     "output_type": "display_data"
    }
   ],
   "source": [
    "data_schema = [\n",
    "StructField(\"_c0\", IntegerType(), True)\n",
    ",StructField(\"province\", StringType(), True)\n",
    ",StructField(\"specific\", IntegerType(), True)\n",
    ",StructField(\"general\", IntegerType(), True)\n",
    ",StructField(\"year\", IntegerType(), True)\n",
    ",StructField(\"gdp\", IntegerType(), True)\n",
    ",StructField(\"fdi\", IntegerType(), True)\n",
    ",StructField(\"rnr\", IntegerType(), True)\n",
    ",StructField(\"rr\", IntegerType(), True)\n",
    ",StructField(\"i\", IntegerType(), True)\n",
    ",StructField(\"fr\", IntegerType(), True)\n",
    ",StructField(\"reg\", StringType(), True)\n",
    ",StructField(\"it\", IntegerType(), True)\n",
    "]"
   ]
  },
  {
   "cell_type": "code",
   "execution_count": 9,
   "metadata": {},
   "outputs": [
    {
     "data": {
      "text/html": [
       "<style scoped>\n  .ansiout {\n    display: block;\n    unicode-bidi: embed;\n    white-space: pre-wrap;\n    word-wrap: break-word;\n    word-break: break-all;\n    font-family: \"Source Code Pro\", \"Menlo\", monospace;;\n    font-size: 13px;\n    color: #555;\n    margin-left: 4px;\n    line-height: 19px;\n  }\n</style>\n<div class=\"ansiout\"></div>"
      ]
     },
     "metadata": {},
     "output_type": "display_data"
    }
   ],
   "source": [
    "final_struc = StructType(fields=data_schema)"
   ]
  },
  {
   "cell_type": "markdown",
   "metadata": {},
   "source": [
    "## Applying the Data Schema/Data Types while reading in a CSV"
   ]
  },
  {
   "cell_type": "code",
   "execution_count": 10,
   "metadata": {},
   "outputs": [
    {
     "data": {
      "text/html": [
       "<style scoped>\n  .ansiout {\n    display: block;\n    unicode-bidi: embed;\n    white-space: pre-wrap;\n    word-wrap: break-word;\n    word-break: break-all;\n    font-family: \"Source Code Pro\", \"Menlo\", monospace;;\n    font-size: 13px;\n    color: #555;\n    margin-left: 4px;\n    line-height: 19px;\n  }\n</style>\n<div class=\"ansiout\"></div>"
      ]
     },
     "metadata": {},
     "output_type": "display_data"
    }
   ],
   "source": [
    "df = spark.read.format(\"CSV\").schema(final_struc).load(file_location)"
   ]
  },
  {
   "cell_type": "code",
   "execution_count": 11,
   "metadata": {},
   "outputs": [
    {
     "data": {
      "text/html": [
       "<style scoped>\n  .ansiout {\n    display: block;\n    unicode-bidi: embed;\n    white-space: pre-wrap;\n    word-wrap: break-word;\n    word-break: break-all;\n    font-family: \"Source Code Pro\", \"Menlo\", monospace;;\n    font-size: 13px;\n    color: #555;\n    margin-left: 4px;\n    line-height: 19px;\n  }\n</style>\n<div class=\"ansiout\">root\n-- _c0: integer (nullable = true)\n-- province: string (nullable = true)\n-- specific: integer (nullable = true)\n-- general: integer (nullable = true)\n-- year: integer (nullable = true)\n-- gdp: integer (nullable = true)\n-- fdi: integer (nullable = true)\n-- rnr: integer (nullable = true)\n-- rr: integer (nullable = true)\n-- i: integer (nullable = true)\n-- fr: integer (nullable = true)\n-- reg: string (nullable = true)\n-- it: integer (nullable = true)\n\n</div>"
      ]
     },
     "metadata": {},
     "output_type": "display_data"
    }
   ],
   "source": [
    "df.printSchema()"
   ]
  },
  {
   "cell_type": "code",
   "execution_count": 12,
   "metadata": {},
   "outputs": [
    {
     "data": {
      "text/html": [
       "<style scoped>\n  .ansiout {\n    display: block;\n    unicode-bidi: embed;\n    white-space: pre-wrap;\n    word-wrap: break-word;\n    word-break: break-all;\n    font-family: \"Source Code Pro\", \"Menlo\", monospace;;\n    font-size: 13px;\n    color: #555;\n    margin-left: 4px;\n    line-height: 19px;\n  }\n</style>\n<div class=\"ansiout\">+----+--------+--------+-------+----+----+------+----+----+----+-------+-----------+-------+\n _c0|province|specific|general|year| gdp|   fdi| rnr|  rr|   i|     fr|        reg|     it|\n+----+--------+--------+-------+----+----+------+----+----+----+-------+-----------+-------+\nnull|province|    null|   null|null|null|  null|null|null|null|   null|        reg|   null|\n   0|   Anhui|    null|   null|1996|null| 50661|null|null|null|1128873| East China| 631930|\n   1|   Anhui|    null|   null|1997|null| 43443|null|null|null|1356287| East China| 657860|\n   2|   Anhui|    null|   null|1998|null| 27673|null|null|null|1518236| East China| 889463|\n   3|   Anhui|    null|   null|1999|null| 26131|null|null|null|1646891| East China|1227364|\n   4|   Anhui|    null|   null|2000|null| 31847|null|null|null|1601508| East China|1499110|\n   5|   Anhui|    null|   null|2001|null| 33672|null|null|null|1672445| East China|2165189|\n   6|   Anhui|    null|   null|2002|null| 38375|null|null|null|1677840| East China|2404936|\n   7|   Anhui|    null|   null|2003|null| 36720|null|null|null|1896479| East China|2815820|\n   8|   Anhui|    null|   null|2004|null| 54669|null|null|null|   null| East China|3422176|\n   9|   Anhui|    null|   null|2005|null| 69000|null|null|null|   null| East China|3874846|\n  10|   Anhui|    null|   null|2006|null|139354|null|null|null|3434548| East China|5167300|\n  11|   Anhui|    null|   null|2007|null|299892|null|null|null|4468640| East China|7040099|\n  12| Beijing|    null|   null|1996|null|155290|null|null|null| 634562|North China| 508135|\n  13| Beijing|    null|   null|1997|null|159286|null|null|null| 634562|North China| 569283|\n  14| Beijing|    null|   null|1998|null|216800|null|null|null| 938788|North China| 695528|\n  15| Beijing|    null|   null|1999|null|197525|null|null|null|   null|North China| 944047|\n  16| Beijing|    null|   null|2000|null|168368|null|null|null|1667114|North China| 757990|\n  17| Beijing|    null|   null|2001|null|176818|null|null|null|2093925|North China|1194728|\n  18| Beijing|    null|   null|2002|null|172464|null|null|null|2511249|North China|1078754|\n+----+--------+--------+-------+----+----+------+----+----+----+-------+-----------+-------+\nonly showing top 20 rows\n\n</div>"
      ]
     },
     "metadata": {},
     "output_type": "display_data"
    }
   ],
   "source": [
    "df.show()"
   ]
  },
  {
   "cell_type": "code",
   "execution_count": 13,
   "metadata": {},
   "outputs": [
    {
     "data": {
      "text/html": [
       "<style scoped>\n  .ansiout {\n    display: block;\n    unicode-bidi: embed;\n    white-space: pre-wrap;\n    word-wrap: break-word;\n    word-break: break-all;\n    font-family: \"Source Code Pro\", \"Menlo\", monospace;;\n    font-size: 13px;\n    color: #555;\n    margin-left: 4px;\n    line-height: 19px;\n  }\n</style>\n<div class=\"ansiout\">Out[72]: Column&lt;b&#39;fr&#39;&gt;</div>"
      ]
     },
     "metadata": {},
     "output_type": "display_data"
    }
   ],
   "source": [
    "df['fr']"
   ]
  },
  {
   "cell_type": "code",
   "execution_count": 14,
   "metadata": {},
   "outputs": [
    {
     "data": {
      "text/html": [
       "<style scoped>\n  .ansiout {\n    display: block;\n    unicode-bidi: embed;\n    white-space: pre-wrap;\n    word-wrap: break-word;\n    word-break: break-all;\n    font-family: \"Source Code Pro\", \"Menlo\", monospace;;\n    font-size: 13px;\n    color: #555;\n    margin-left: 4px;\n    line-height: 19px;\n  }\n</style>\n<div class=\"ansiout\">Out[73]: pyspark.sql.column.Column</div>"
      ]
     },
     "metadata": {},
     "output_type": "display_data"
    }
   ],
   "source": [
    "type(df['fr'])"
   ]
  },
  {
   "cell_type": "code",
   "execution_count": 15,
   "metadata": {},
   "outputs": [
    {
     "data": {
      "text/html": [
       "<style scoped>\n  .ansiout {\n    display: block;\n    unicode-bidi: embed;\n    white-space: pre-wrap;\n    word-wrap: break-word;\n    word-break: break-all;\n    font-family: \"Source Code Pro\", \"Menlo\", monospace;;\n    font-size: 13px;\n    color: #555;\n    margin-left: 4px;\n    line-height: 19px;\n  }\n</style>\n<div class=\"ansiout\">Out[74]: DataFrame[fr: int]</div>"
      ]
     },
     "metadata": {},
     "output_type": "display_data"
    }
   ],
   "source": [
    "df.select('fr')"
   ]
  },
  {
   "cell_type": "code",
   "execution_count": 16,
   "metadata": {},
   "outputs": [
    {
     "data": {
      "text/html": [
       "<style scoped>\n  .ansiout {\n    display: block;\n    unicode-bidi: embed;\n    white-space: pre-wrap;\n    word-wrap: break-word;\n    word-break: break-all;\n    font-family: \"Source Code Pro\", \"Menlo\", monospace;;\n    font-size: 13px;\n    color: #555;\n    margin-left: 4px;\n    line-height: 19px;\n  }\n</style>\n<div class=\"ansiout\">Out[75]: pyspark.sql.dataframe.DataFrame</div>"
      ]
     },
     "metadata": {},
     "output_type": "display_data"
    }
   ],
   "source": [
    "type(df.select('fr'))"
   ]
  },
  {
   "cell_type": "code",
   "execution_count": 17,
   "metadata": {},
   "outputs": [
    {
     "data": {
      "text/html": [
       "<style scoped>\n  .ansiout {\n    display: block;\n    unicode-bidi: embed;\n    white-space: pre-wrap;\n    word-wrap: break-word;\n    word-break: break-all;\n    font-family: \"Source Code Pro\", \"Menlo\", monospace;;\n    font-size: 13px;\n    color: #555;\n    margin-left: 4px;\n    line-height: 19px;\n  }\n</style>\n<div class=\"ansiout\">+-------+\n     fr|\n+-------+\n   null|\n1128873|\n1356287|\n1518236|\n1646891|\n1601508|\n1672445|\n1677840|\n1896479|\n   null|\n   null|\n3434548|\n4468640|\n 634562|\n 634562|\n 938788|\n   null|\n1667114|\n2093925|\n2511249|\n+-------+\nonly showing top 20 rows\n\n</div>"
      ]
     },
     "metadata": {},
     "output_type": "display_data"
    }
   ],
   "source": [
    "df.select('fr').show()"
   ]
  },
  {
   "cell_type": "code",
   "execution_count": 18,
   "metadata": {},
   "outputs": [
    {
     "data": {
      "text/html": [
       "<style scoped>\n  .ansiout {\n    display: block;\n    unicode-bidi: embed;\n    white-space: pre-wrap;\n    word-wrap: break-word;\n    word-break: break-all;\n    font-family: \"Source Code Pro\", \"Menlo\", monospace;;\n    font-size: 13px;\n    color: #555;\n    margin-left: 4px;\n    line-height: 19px;\n  }\n</style>\n<div class=\"ansiout\">Out[77]: [Row(_c0=None, province=&#39;province&#39;, specific=None, general=None, year=None, gdp=None, fdi=None, rnr=None, rr=None, i=None, fr=None, reg=&#39;reg&#39;, it=None),\n Row(_c0=0, province=&#39;Anhui&#39;, specific=None, general=None, year=1996, gdp=None, fdi=50661, rnr=None, rr=None, i=None, fr=1128873, reg=&#39;East China&#39;, it=631930)]</div>"
      ]
     },
     "metadata": {},
     "output_type": "display_data"
    }
   ],
   "source": [
    "df.head(2)"
   ]
  },
  {
   "cell_type": "code",
   "execution_count": 19,
   "metadata": {},
   "outputs": [
    {
     "data": {
      "text/html": [
       "<style scoped>\n  .ansiout {\n    display: block;\n    unicode-bidi: embed;\n    white-space: pre-wrap;\n    word-wrap: break-word;\n    word-break: break-all;\n    font-family: \"Source Code Pro\", \"Menlo\", monospace;;\n    font-size: 13px;\n    color: #555;\n    margin-left: 4px;\n    line-height: 19px;\n  }\n</style>\n<div class=\"ansiout\">Out[78]: DataFrame[reg: string, fr: int]</div>"
      ]
     },
     "metadata": {},
     "output_type": "display_data"
    }
   ],
   "source": [
    "df.select(['reg','fr'])"
   ]
  },
  {
   "cell_type": "markdown",
   "metadata": {},
   "source": [
    "## Using select with RDDs"
   ]
  },
  {
   "cell_type": "code",
   "execution_count": 20,
   "metadata": {},
   "outputs": [
    {
     "data": {
      "text/html": [
       "<style scoped>\n  .ansiout {\n    display: block;\n    unicode-bidi: embed;\n    white-space: pre-wrap;\n    word-wrap: break-word;\n    word-break: break-all;\n    font-family: \"Source Code Pro\", \"Menlo\", monospace;;\n    font-size: 13px;\n    color: #555;\n    margin-left: 4px;\n    line-height: 19px;\n  }\n</style>\n<div class=\"ansiout\">+-----------+-------+\n        reg|     fr|\n+-----------+-------+\n        reg|   null|\n East China|1128873|\n East China|1356287|\n East China|1518236|\n East China|1646891|\n East China|1601508|\n East China|1672445|\n East China|1677840|\n East China|1896479|\n East China|   null|\n East China|   null|\n East China|3434548|\n East China|4468640|\nNorth China| 634562|\nNorth China| 634562|\nNorth China| 938788|\nNorth China|   null|\nNorth China|1667114|\nNorth China|2093925|\nNorth China|2511249|\n+-----------+-------+\nonly showing top 20 rows\n\n</div>"
      ]
     },
     "metadata": {},
     "output_type": "display_data"
    }
   ],
   "source": [
    "df.select(['reg','fr']).show()"
   ]
  },
  {
   "cell_type": "code",
   "execution_count": 21,
   "metadata": {},
   "outputs": [
    {
     "data": {
      "text/html": [
       "<style scoped>\n  .ansiout {\n    display: block;\n    unicode-bidi: embed;\n    white-space: pre-wrap;\n    word-wrap: break-word;\n    word-break: break-all;\n    font-family: \"Source Code Pro\", \"Menlo\", monospace;;\n    font-size: 13px;\n    color: #555;\n    margin-left: 4px;\n    line-height: 19px;\n  }\n</style>\n<div class=\"ansiout\">+----+--------+--------+-------+----+----+------+----+----+----+-------+-----------+-------+--------------+\n _c0|province|specific|general|year| gdp|   fdi| rnr|  rr|   i|     fr|        reg|     it|fiscal_revenue|\n+----+--------+--------+-------+----+----+------+----+----+----+-------+-----------+-------+--------------+\nnull|province|    null|   null|null|null|  null|null|null|null|   null|        reg|   null|          null|\n   0|   Anhui|    null|   null|1996|null| 50661|null|null|null|1128873| East China| 631930|       1128873|\n   1|   Anhui|    null|   null|1997|null| 43443|null|null|null|1356287| East China| 657860|       1356287|\n   2|   Anhui|    null|   null|1998|null| 27673|null|null|null|1518236| East China| 889463|       1518236|\n   3|   Anhui|    null|   null|1999|null| 26131|null|null|null|1646891| East China|1227364|       1646891|\n   4|   Anhui|    null|   null|2000|null| 31847|null|null|null|1601508| East China|1499110|       1601508|\n   5|   Anhui|    null|   null|2001|null| 33672|null|null|null|1672445| East China|2165189|       1672445|\n   6|   Anhui|    null|   null|2002|null| 38375|null|null|null|1677840| East China|2404936|       1677840|\n   7|   Anhui|    null|   null|2003|null| 36720|null|null|null|1896479| East China|2815820|       1896479|\n   8|   Anhui|    null|   null|2004|null| 54669|null|null|null|   null| East China|3422176|          null|\n   9|   Anhui|    null|   null|2005|null| 69000|null|null|null|   null| East China|3874846|          null|\n  10|   Anhui|    null|   null|2006|null|139354|null|null|null|3434548| East China|5167300|       3434548|\n  11|   Anhui|    null|   null|2007|null|299892|null|null|null|4468640| East China|7040099|       4468640|\n  12| Beijing|    null|   null|1996|null|155290|null|null|null| 634562|North China| 508135|        634562|\n  13| Beijing|    null|   null|1997|null|159286|null|null|null| 634562|North China| 569283|        634562|\n  14| Beijing|    null|   null|1998|null|216800|null|null|null| 938788|North China| 695528|        938788|\n  15| Beijing|    null|   null|1999|null|197525|null|null|null|   null|North China| 944047|          null|\n  16| Beijing|    null|   null|2000|null|168368|null|null|null|1667114|North China| 757990|       1667114|\n  17| Beijing|    null|   null|2001|null|176818|null|null|null|2093925|North China|1194728|       2093925|\n  18| Beijing|    null|   null|2002|null|172464|null|null|null|2511249|North China|1078754|       2511249|\n+----+--------+--------+-------+----+----+------+----+----+----+-------+-----------+-------+--------------+\nonly showing top 20 rows\n\n</div>"
      ]
     },
     "metadata": {},
     "output_type": "display_data"
    }
   ],
   "source": [
    "df.withColumn('fiscal_revenue',df['fr']).show()"
   ]
  },
  {
   "cell_type": "code",
   "execution_count": 22,
   "metadata": {},
   "outputs": [
    {
     "data": {
      "text/html": [
       "<style scoped>\n  .ansiout {\n    display: block;\n    unicode-bidi: embed;\n    white-space: pre-wrap;\n    word-wrap: break-word;\n    word-break: break-all;\n    font-family: \"Source Code Pro\", \"Menlo\", monospace;;\n    font-size: 13px;\n    color: #555;\n    margin-left: 4px;\n    line-height: 19px;\n  }\n</style>\n<div class=\"ansiout\">+----+--------+--------+-------+----+----+------+----+----+----+-------+-----------+-------+\n _c0|province|specific|general|year| gdp|   fdi| rnr|  rr|   i|     fr|        reg|     it|\n+----+--------+--------+-------+----+----+------+----+----+----+-------+-----------+-------+\nnull|province|    null|   null|null|null|  null|null|null|null|   null|        reg|   null|\n   0|   Anhui|    null|   null|1996|null| 50661|null|null|null|1128873| East China| 631930|\n   1|   Anhui|    null|   null|1997|null| 43443|null|null|null|1356287| East China| 657860|\n   2|   Anhui|    null|   null|1998|null| 27673|null|null|null|1518236| East China| 889463|\n   3|   Anhui|    null|   null|1999|null| 26131|null|null|null|1646891| East China|1227364|\n   4|   Anhui|    null|   null|2000|null| 31847|null|null|null|1601508| East China|1499110|\n   5|   Anhui|    null|   null|2001|null| 33672|null|null|null|1672445| East China|2165189|\n   6|   Anhui|    null|   null|2002|null| 38375|null|null|null|1677840| East China|2404936|\n   7|   Anhui|    null|   null|2003|null| 36720|null|null|null|1896479| East China|2815820|\n   8|   Anhui|    null|   null|2004|null| 54669|null|null|null|   null| East China|3422176|\n   9|   Anhui|    null|   null|2005|null| 69000|null|null|null|   null| East China|3874846|\n  10|   Anhui|    null|   null|2006|null|139354|null|null|null|3434548| East China|5167300|\n  11|   Anhui|    null|   null|2007|null|299892|null|null|null|4468640| East China|7040099|\n  12| Beijing|    null|   null|1996|null|155290|null|null|null| 634562|North China| 508135|\n  13| Beijing|    null|   null|1997|null|159286|null|null|null| 634562|North China| 569283|\n  14| Beijing|    null|   null|1998|null|216800|null|null|null| 938788|North China| 695528|\n  15| Beijing|    null|   null|1999|null|197525|null|null|null|   null|North China| 944047|\n  16| Beijing|    null|   null|2000|null|168368|null|null|null|1667114|North China| 757990|\n  17| Beijing|    null|   null|2001|null|176818|null|null|null|2093925|North China|1194728|\n  18| Beijing|    null|   null|2002|null|172464|null|null|null|2511249|North China|1078754|\n+----+--------+--------+-------+----+----+------+----+----+----+-------+-----------+-------+\nonly showing top 20 rows\n\n</div>"
      ]
     },
     "metadata": {},
     "output_type": "display_data"
    }
   ],
   "source": [
    "df.show()"
   ]
  },
  {
   "cell_type": "markdown",
   "metadata": {},
   "source": [
    "## Renaming Columns using withColumnRenamed"
   ]
  },
  {
   "cell_type": "code",
   "execution_count": 23,
   "metadata": {},
   "outputs": [
    {
     "data": {
      "text/html": [
       "<style scoped>\n  .ansiout {\n    display: block;\n    unicode-bidi: embed;\n    white-space: pre-wrap;\n    word-wrap: break-word;\n    word-break: break-all;\n    font-family: \"Source Code Pro\", \"Menlo\", monospace;;\n    font-size: 13px;\n    color: #555;\n    margin-left: 4px;\n    line-height: 19px;\n  }\n</style>\n<div class=\"ansiout\">+----+--------+--------+-------+----+----+------+----+----+----+------------------+-----------+-------+\n _c0|province|specific|general|year| gdp|   fdi| rnr|  rr|   i|new_fiscal_revenue|        reg|     it|\n+----+--------+--------+-------+----+----+------+----+----+----+------------------+-----------+-------+\nnull|province|    null|   null|null|null|  null|null|null|null|              null|        reg|   null|\n   0|   Anhui|    null|   null|1996|null| 50661|null|null|null|           1128873| East China| 631930|\n   1|   Anhui|    null|   null|1997|null| 43443|null|null|null|           1356287| East China| 657860|\n   2|   Anhui|    null|   null|1998|null| 27673|null|null|null|           1518236| East China| 889463|\n   3|   Anhui|    null|   null|1999|null| 26131|null|null|null|           1646891| East China|1227364|\n   4|   Anhui|    null|   null|2000|null| 31847|null|null|null|           1601508| East China|1499110|\n   5|   Anhui|    null|   null|2001|null| 33672|null|null|null|           1672445| East China|2165189|\n   6|   Anhui|    null|   null|2002|null| 38375|null|null|null|           1677840| East China|2404936|\n   7|   Anhui|    null|   null|2003|null| 36720|null|null|null|           1896479| East China|2815820|\n   8|   Anhui|    null|   null|2004|null| 54669|null|null|null|              null| East China|3422176|\n   9|   Anhui|    null|   null|2005|null| 69000|null|null|null|              null| East China|3874846|\n  10|   Anhui|    null|   null|2006|null|139354|null|null|null|           3434548| East China|5167300|\n  11|   Anhui|    null|   null|2007|null|299892|null|null|null|           4468640| East China|7040099|\n  12| Beijing|    null|   null|1996|null|155290|null|null|null|            634562|North China| 508135|\n  13| Beijing|    null|   null|1997|null|159286|null|null|null|            634562|North China| 569283|\n  14| Beijing|    null|   null|1998|null|216800|null|null|null|            938788|North China| 695528|\n  15| Beijing|    null|   null|1999|null|197525|null|null|null|              null|North China| 944047|\n  16| Beijing|    null|   null|2000|null|168368|null|null|null|           1667114|North China| 757990|\n  17| Beijing|    null|   null|2001|null|176818|null|null|null|           2093925|North China|1194728|\n  18| Beijing|    null|   null|2002|null|172464|null|null|null|           2511249|North China|1078754|\n+----+--------+--------+-------+----+----+------+----+----+----+------------------+-----------+-------+\nonly showing top 20 rows\n\n</div>"
      ]
     },
     "metadata": {},
     "output_type": "display_data"
    }
   ],
   "source": [
    "df.withColumnRenamed('fr','new_fiscal_revenue').show()"
   ]
  },
  {
   "cell_type": "markdown",
   "metadata": {},
   "source": [
    "## New Columns by Transforming extant Columns using withColumn"
   ]
  },
  {
   "cell_type": "code",
   "execution_count": 24,
   "metadata": {},
   "outputs": [
    {
     "data": {
      "text/html": [
       "<style scoped>\n  .ansiout {\n    display: block;\n    unicode-bidi: embed;\n    white-space: pre-wrap;\n    word-wrap: break-word;\n    word-break: break-all;\n    font-family: \"Source Code Pro\", \"Menlo\", monospace;;\n    font-size: 13px;\n    color: #555;\n    margin-left: 4px;\n    line-height: 19px;\n  }\n</style>\n<div class=\"ansiout\">+----+--------+--------+-------+----+----+------+----+----+----+-------+-----------+-------+---------------------+\n _c0|province|specific|general|year| gdp|   fdi| rnr|  rr|   i|     fr|        reg|     it|double_fiscal_revenue|\n+----+--------+--------+-------+----+----+------+----+----+----+-------+-----------+-------+---------------------+\nnull|province|    null|   null|null|null|  null|null|null|null|   null|        reg|   null|                 null|\n   0|   Anhui|    null|   null|1996|null| 50661|null|null|null|1128873| East China| 631930|              2257746|\n   1|   Anhui|    null|   null|1997|null| 43443|null|null|null|1356287| East China| 657860|              2712574|\n   2|   Anhui|    null|   null|1998|null| 27673|null|null|null|1518236| East China| 889463|              3036472|\n   3|   Anhui|    null|   null|1999|null| 26131|null|null|null|1646891| East China|1227364|              3293782|\n   4|   Anhui|    null|   null|2000|null| 31847|null|null|null|1601508| East China|1499110|              3203016|\n   5|   Anhui|    null|   null|2001|null| 33672|null|null|null|1672445| East China|2165189|              3344890|\n   6|   Anhui|    null|   null|2002|null| 38375|null|null|null|1677840| East China|2404936|              3355680|\n   7|   Anhui|    null|   null|2003|null| 36720|null|null|null|1896479| East China|2815820|              3792958|\n   8|   Anhui|    null|   null|2004|null| 54669|null|null|null|   null| East China|3422176|                 null|\n   9|   Anhui|    null|   null|2005|null| 69000|null|null|null|   null| East China|3874846|                 null|\n  10|   Anhui|    null|   null|2006|null|139354|null|null|null|3434548| East China|5167300|              6869096|\n  11|   Anhui|    null|   null|2007|null|299892|null|null|null|4468640| East China|7040099|              8937280|\n  12| Beijing|    null|   null|1996|null|155290|null|null|null| 634562|North China| 508135|              1269124|\n  13| Beijing|    null|   null|1997|null|159286|null|null|null| 634562|North China| 569283|              1269124|\n  14| Beijing|    null|   null|1998|null|216800|null|null|null| 938788|North China| 695528|              1877576|\n  15| Beijing|    null|   null|1999|null|197525|null|null|null|   null|North China| 944047|                 null|\n  16| Beijing|    null|   null|2000|null|168368|null|null|null|1667114|North China| 757990|              3334228|\n  17| Beijing|    null|   null|2001|null|176818|null|null|null|2093925|North China|1194728|              4187850|\n  18| Beijing|    null|   null|2002|null|172464|null|null|null|2511249|North China|1078754|              5022498|\n+----+--------+--------+-------+----+----+------+----+----+----+-------+-----------+-------+---------------------+\nonly showing top 20 rows\n\n</div>"
      ]
     },
     "metadata": {},
     "output_type": "display_data"
    }
   ],
   "source": [
    "df.withColumn('double_fiscal_revenue',df['fr']*2).show()"
   ]
  },
  {
   "cell_type": "code",
   "execution_count": 25,
   "metadata": {},
   "outputs": [
    {
     "data": {
      "text/html": [
       "<style scoped>\n  .ansiout {\n    display: block;\n    unicode-bidi: embed;\n    white-space: pre-wrap;\n    word-wrap: break-word;\n    word-break: break-all;\n    font-family: \"Source Code Pro\", \"Menlo\", monospace;;\n    font-size: 13px;\n    color: #555;\n    margin-left: 4px;\n    line-height: 19px;\n  }\n</style>\n<div class=\"ansiout\">+----+--------+--------+-------+----+----+------+----+----+----+-------+-----------+-------+------------------+\n _c0|province|specific|general|year| gdp|   fdi| rnr|  rr|   i|     fr|        reg|     it|add_fiscal_revenue|\n+----+--------+--------+-------+----+----+------+----+----+----+-------+-----------+-------+------------------+\nnull|province|    null|   null|null|null|  null|null|null|null|   null|        reg|   null|              null|\n   0|   Anhui|    null|   null|1996|null| 50661|null|null|null|1128873| East China| 631930|           1128874|\n   1|   Anhui|    null|   null|1997|null| 43443|null|null|null|1356287| East China| 657860|           1356288|\n   2|   Anhui|    null|   null|1998|null| 27673|null|null|null|1518236| East China| 889463|           1518237|\n   3|   Anhui|    null|   null|1999|null| 26131|null|null|null|1646891| East China|1227364|           1646892|\n   4|   Anhui|    null|   null|2000|null| 31847|null|null|null|1601508| East China|1499110|           1601509|\n   5|   Anhui|    null|   null|2001|null| 33672|null|null|null|1672445| East China|2165189|           1672446|\n   6|   Anhui|    null|   null|2002|null| 38375|null|null|null|1677840| East China|2404936|           1677841|\n   7|   Anhui|    null|   null|2003|null| 36720|null|null|null|1896479| East China|2815820|           1896480|\n   8|   Anhui|    null|   null|2004|null| 54669|null|null|null|   null| East China|3422176|              null|\n   9|   Anhui|    null|   null|2005|null| 69000|null|null|null|   null| East China|3874846|              null|\n  10|   Anhui|    null|   null|2006|null|139354|null|null|null|3434548| East China|5167300|           3434549|\n  11|   Anhui|    null|   null|2007|null|299892|null|null|null|4468640| East China|7040099|           4468641|\n  12| Beijing|    null|   null|1996|null|155290|null|null|null| 634562|North China| 508135|            634563|\n  13| Beijing|    null|   null|1997|null|159286|null|null|null| 634562|North China| 569283|            634563|\n  14| Beijing|    null|   null|1998|null|216800|null|null|null| 938788|North China| 695528|            938789|\n  15| Beijing|    null|   null|1999|null|197525|null|null|null|   null|North China| 944047|              null|\n  16| Beijing|    null|   null|2000|null|168368|null|null|null|1667114|North China| 757990|           1667115|\n  17| Beijing|    null|   null|2001|null|176818|null|null|null|2093925|North China|1194728|           2093926|\n  18| Beijing|    null|   null|2002|null|172464|null|null|null|2511249|North China|1078754|           2511250|\n+----+--------+--------+-------+----+----+------+----+----+----+-------+-----------+-------+------------------+\nonly showing top 20 rows\n\n</div>"
      ]
     },
     "metadata": {},
     "output_type": "display_data"
    }
   ],
   "source": [
    "df.withColumn('add_fiscal_revenue',df['fr']+1).show()"
   ]
  },
  {
   "cell_type": "code",
   "execution_count": 26,
   "metadata": {},
   "outputs": [
    {
     "data": {
      "text/html": [
       "<style scoped>\n  .ansiout {\n    display: block;\n    unicode-bidi: embed;\n    white-space: pre-wrap;\n    word-wrap: break-word;\n    word-break: break-all;\n    font-family: \"Source Code Pro\", \"Menlo\", monospace;;\n    font-size: 13px;\n    color: #555;\n    margin-left: 4px;\n    line-height: 19px;\n  }\n</style>\n<div class=\"ansiout\">+----+--------+--------+-------+----+----+------+----+----+----+-------+-----------+-------+-------------------+\n _c0|province|specific|general|year| gdp|   fdi| rnr|  rr|   i|     fr|        reg|     it|half_fiscal_revenue|\n+----+--------+--------+-------+----+----+------+----+----+----+-------+-----------+-------+-------------------+\nnull|province|    null|   null|null|null|  null|null|null|null|   null|        reg|   null|               null|\n   0|   Anhui|    null|   null|1996|null| 50661|null|null|null|1128873| East China| 631930|           564436.5|\n   1|   Anhui|    null|   null|1997|null| 43443|null|null|null|1356287| East China| 657860|           678143.5|\n   2|   Anhui|    null|   null|1998|null| 27673|null|null|null|1518236| East China| 889463|           759118.0|\n   3|   Anhui|    null|   null|1999|null| 26131|null|null|null|1646891| East China|1227364|           823445.5|\n   4|   Anhui|    null|   null|2000|null| 31847|null|null|null|1601508| East China|1499110|           800754.0|\n   5|   Anhui|    null|   null|2001|null| 33672|null|null|null|1672445| East China|2165189|           836222.5|\n   6|   Anhui|    null|   null|2002|null| 38375|null|null|null|1677840| East China|2404936|           838920.0|\n   7|   Anhui|    null|   null|2003|null| 36720|null|null|null|1896479| East China|2815820|           948239.5|\n   8|   Anhui|    null|   null|2004|null| 54669|null|null|null|   null| East China|3422176|               null|\n   9|   Anhui|    null|   null|2005|null| 69000|null|null|null|   null| East China|3874846|               null|\n  10|   Anhui|    null|   null|2006|null|139354|null|null|null|3434548| East China|5167300|          1717274.0|\n  11|   Anhui|    null|   null|2007|null|299892|null|null|null|4468640| East China|7040099|          2234320.0|\n  12| Beijing|    null|   null|1996|null|155290|null|null|null| 634562|North China| 508135|           317281.0|\n  13| Beijing|    null|   null|1997|null|159286|null|null|null| 634562|North China| 569283|           317281.0|\n  14| Beijing|    null|   null|1998|null|216800|null|null|null| 938788|North China| 695528|           469394.0|\n  15| Beijing|    null|   null|1999|null|197525|null|null|null|   null|North China| 944047|               null|\n  16| Beijing|    null|   null|2000|null|168368|null|null|null|1667114|North China| 757990|           833557.0|\n  17| Beijing|    null|   null|2001|null|176818|null|null|null|2093925|North China|1194728|          1046962.5|\n  18| Beijing|    null|   null|2002|null|172464|null|null|null|2511249|North China|1078754|          1255624.5|\n+----+--------+--------+-------+----+----+------+----+----+----+-------+-----------+-------+-------------------+\nonly showing top 20 rows\n\n</div>"
      ]
     },
     "metadata": {},
     "output_type": "display_data"
    }
   ],
   "source": [
    "df.withColumn('half_fiscal_revenue',df['fr']/2).show()"
   ]
  },
  {
   "cell_type": "code",
   "execution_count": 27,
   "metadata": {},
   "outputs": [
    {
     "data": {
      "text/html": [
       "<style scoped>\n  .ansiout {\n    display: block;\n    unicode-bidi: embed;\n    white-space: pre-wrap;\n    word-wrap: break-word;\n    word-break: break-all;\n    font-family: \"Source Code Pro\", \"Menlo\", monospace;;\n    font-size: 13px;\n    color: #555;\n    margin-left: 4px;\n    line-height: 19px;\n  }\n</style>\n<div class=\"ansiout\">Out[86]: DataFrame[_c0: int, province: string, specific: int, general: int, year: int, gdp: int, fdi: int, rnr: int, rr: int, i: int, fr: int, reg: string, it: int, half_fr: double]</div>"
      ]
     },
     "metadata": {},
     "output_type": "display_data"
    }
   ],
   "source": [
    "df.withColumn('half_fr',df['fr']/2)"
   ]
  },
  {
   "cell_type": "markdown",
   "metadata": {},
   "source": [
    "## Spark SQL for SQL functionality using createOrReplaceTempView"
   ]
  },
  {
   "cell_type": "code",
   "execution_count": 28,
   "metadata": {},
   "outputs": [
    {
     "data": {
      "text/html": [
       "<style scoped>\n  .ansiout {\n    display: block;\n    unicode-bidi: embed;\n    white-space: pre-wrap;\n    word-wrap: break-word;\n    word-break: break-all;\n    font-family: \"Source Code Pro\", \"Menlo\", monospace;;\n    font-size: 13px;\n    color: #555;\n    margin-left: 4px;\n    line-height: 19px;\n  }\n</style>\n<div class=\"ansiout\"></div>"
      ]
     },
     "metadata": {},
     "output_type": "display_data"
    }
   ],
   "source": [
    "df.createOrReplaceTempView(\"economic_data\")"
   ]
  },
  {
   "cell_type": "code",
   "execution_count": 29,
   "metadata": {},
   "outputs": [
    {
     "data": {
      "text/html": [
       "<style scoped>\n  .ansiout {\n    display: block;\n    unicode-bidi: embed;\n    white-space: pre-wrap;\n    word-wrap: break-word;\n    word-break: break-all;\n    font-family: \"Source Code Pro\", \"Menlo\", monospace;;\n    font-size: 13px;\n    color: #555;\n    margin-left: 4px;\n    line-height: 19px;\n  }\n</style>\n<div class=\"ansiout\"></div>"
      ]
     },
     "metadata": {},
     "output_type": "display_data"
    }
   ],
   "source": [
    "sql_results = spark.sql(\"SELECT * FROM economic_data\")"
   ]
  },
  {
   "cell_type": "code",
   "execution_count": 30,
   "metadata": {},
   "outputs": [
    {
     "data": {
      "text/html": [
       "<style scoped>\n  .ansiout {\n    display: block;\n    unicode-bidi: embed;\n    white-space: pre-wrap;\n    word-wrap: break-word;\n    word-break: break-all;\n    font-family: \"Source Code Pro\", \"Menlo\", monospace;;\n    font-size: 13px;\n    color: #555;\n    margin-left: 4px;\n    line-height: 19px;\n  }\n</style>\n<div class=\"ansiout\">Out[89]: DataFrame[_c0: int, province: string, specific: int, general: int, year: int, gdp: int, fdi: int, rnr: int, rr: int, i: int, fr: int, reg: string, it: int]</div>"
      ]
     },
     "metadata": {},
     "output_type": "display_data"
    }
   ],
   "source": [
    "sql_results"
   ]
  },
  {
   "cell_type": "code",
   "execution_count": 31,
   "metadata": {},
   "outputs": [
    {
     "data": {
      "text/html": [
       "<style scoped>\n  .ansiout {\n    display: block;\n    unicode-bidi: embed;\n    white-space: pre-wrap;\n    word-wrap: break-word;\n    word-break: break-all;\n    font-family: \"Source Code Pro\", \"Menlo\", monospace;;\n    font-size: 13px;\n    color: #555;\n    margin-left: 4px;\n    line-height: 19px;\n  }\n</style>\n<div class=\"ansiout\">+----+--------+--------+-------+----+----+------+----+----+----+-------+-----------+-------+\n _c0|province|specific|general|year| gdp|   fdi| rnr|  rr|   i|     fr|        reg|     it|\n+----+--------+--------+-------+----+----+------+----+----+----+-------+-----------+-------+\nnull|province|    null|   null|null|null|  null|null|null|null|   null|        reg|   null|\n   0|   Anhui|    null|   null|1996|null| 50661|null|null|null|1128873| East China| 631930|\n   1|   Anhui|    null|   null|1997|null| 43443|null|null|null|1356287| East China| 657860|\n   2|   Anhui|    null|   null|1998|null| 27673|null|null|null|1518236| East China| 889463|\n   3|   Anhui|    null|   null|1999|null| 26131|null|null|null|1646891| East China|1227364|\n   4|   Anhui|    null|   null|2000|null| 31847|null|null|null|1601508| East China|1499110|\n   5|   Anhui|    null|   null|2001|null| 33672|null|null|null|1672445| East China|2165189|\n   6|   Anhui|    null|   null|2002|null| 38375|null|null|null|1677840| East China|2404936|\n   7|   Anhui|    null|   null|2003|null| 36720|null|null|null|1896479| East China|2815820|\n   8|   Anhui|    null|   null|2004|null| 54669|null|null|null|   null| East China|3422176|\n   9|   Anhui|    null|   null|2005|null| 69000|null|null|null|   null| East China|3874846|\n  10|   Anhui|    null|   null|2006|null|139354|null|null|null|3434548| East China|5167300|\n  11|   Anhui|    null|   null|2007|null|299892|null|null|null|4468640| East China|7040099|\n  12| Beijing|    null|   null|1996|null|155290|null|null|null| 634562|North China| 508135|\n  13| Beijing|    null|   null|1997|null|159286|null|null|null| 634562|North China| 569283|\n  14| Beijing|    null|   null|1998|null|216800|null|null|null| 938788|North China| 695528|\n  15| Beijing|    null|   null|1999|null|197525|null|null|null|   null|North China| 944047|\n  16| Beijing|    null|   null|2000|null|168368|null|null|null|1667114|North China| 757990|\n  17| Beijing|    null|   null|2001|null|176818|null|null|null|2093925|North China|1194728|\n  18| Beijing|    null|   null|2002|null|172464|null|null|null|2511249|North China|1078754|\n+----+--------+--------+-------+----+----+------+----+----+----+-------+-----------+-------+\nonly showing top 20 rows\n\n</div>"
      ]
     },
     "metadata": {},
     "output_type": "display_data"
    }
   ],
   "source": [
    "sql_results.show()"
   ]
  },
  {
   "cell_type": "code",
   "execution_count": 32,
   "metadata": {},
   "outputs": [
    {
     "data": {
      "text/html": [
       "<style scoped>\n  .ansiout {\n    display: block;\n    unicode-bidi: embed;\n    white-space: pre-wrap;\n    word-wrap: break-word;\n    word-break: break-all;\n    font-family: \"Source Code Pro\", \"Menlo\", monospace;;\n    font-size: 13px;\n    color: #555;\n    margin-left: 4px;\n    line-height: 19px;\n  }\n</style>\n<div class=\"ansiout\">+---+--------+--------+-------+----+----+------+----+----+----+------+-----------+------+\n_c0|province|specific|general|year| gdp|   fdi| rnr|  rr|   i|    fr|        reg|    it|\n+---+--------+--------+-------+----+----+------+----+----+----+------+-----------+------+\n 12| Beijing|    null|   null|1996|null|155290|null|null|null|634562|North China|508135|\n 13| Beijing|    null|   null|1997|null|159286|null|null|null|634562|North China|569283|\n+---+--------+--------+-------+----+----+------+----+----+----+------+-----------+------+\n\n</div>"
      ]
     },
     "metadata": {},
     "output_type": "display_data"
    }
   ],
   "source": [
    "spark.sql(\"SELECT * FROM economic_data WHERE fr=634562\").show()"
   ]
  },
  {
   "cell_type": "markdown",
   "metadata": {},
   "source": [
    "This post includes code adapted from [Spark and Python for Big Data udemy course](https://udemy.com/course/spark-and-python-for-big-data-with-pyspark) and [Spark and Python for Big Data notebooks](https://github.com/SuperJohn/spark-and-python-for-big-data-with-pyspark)."
   ]
  }
 ],
 "metadata": {
  "kernelspec": {
   "display_name": "Python 3.7.5 64-bit",
   "name": "python_defaultSpec_1598123900967"
  },
  "name": "RDDs and Schemas and Data Types with Pyspark",
  "notebookId": 3004505139622262
 },
 "nbformat": 4,
 "nbformat_minor": 0
}
